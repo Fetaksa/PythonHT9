{
  "nbformat": 4,
  "nbformat_minor": 0,
  "metadata": {
    "colab": {
      "provenance": [],
      "authorship_tag": "ABX9TyPGRGM3+CcnQCqkLVTshB5e",
      "include_colab_link": true
    },
    "kernelspec": {
      "name": "python3",
      "display_name": "Python 3"
    },
    "language_info": {
      "name": "python"
    }
  },
  "cells": [
    {
      "cell_type": "markdown",
      "metadata": {
        "id": "view-in-github",
        "colab_type": "text"
      },
      "source": [
        "<a href=\"https://colab.research.google.com/github/Fetaksa/PythonHT9/blob/main/Untitled1.ipynb\" target=\"_parent\"><img src=\"https://colab.research.google.com/assets/colab-badge.svg\" alt=\"Open In Colab\"/></a>"
      ]
    },
    {
      "cell_type": "markdown",
      "source": [
        "Урок 9. Работа с табличными данными\n",
        "\n",
        "Задача 1\n",
        "Работать с файлом california_housing_train.csv, который находится в папке sample_data. \n",
        "Определить среднюю стоимость дома, где кол-во людей от 0 до 500 (population)"
      ],
      "metadata": {
        "id": "9xfS9H-4DIMR"
      }
    },
    {
      "cell_type": "code",
      "source": [
        "import pandas as pd"
      ],
      "metadata": {
        "id": "HdV0a8jYDVej"
      },
      "execution_count": 1,
      "outputs": []
    },
    {
      "cell_type": "code",
      "execution_count": 2,
      "metadata": {
        "id": "hz8wBLvOBeQx"
      },
      "outputs": [],
      "source": [
        "df = pd.read_csv('sample_data/california_housing_train.csv')"
      ]
    },
    {
      "cell_type": "code",
      "source": [
        "df[\n",
        "    (df['population'] > 0) &\n",
        "    (df['population'] < 500)\n",
        "].median_house_value.mean()"
      ],
      "metadata": {
        "colab": {
          "base_uri": "https://localhost:8080/"
        },
        "id": "ihxLGARvDe99",
        "outputId": "b4cef554-c92d-4062-b2e7-eb12008defb7"
      },
      "execution_count": 3,
      "outputs": [
        {
          "output_type": "execute_result",
          "data": {
            "text/plain": [
              "206683.83635227982"
            ]
          },
          "metadata": {},
          "execution_count": 3
        }
      ]
    },
    {
      "cell_type": "markdown",
      "source": [
        "Задача 2\n",
        "Узнать какая максимальная households в зоне минимального значения population"
      ],
      "metadata": {
        "id": "ZnpEDU2JD09H"
      }
    },
    {
      "cell_type": "code",
      "source": [
        "min_population = df.population.min()\n",
        "df[\n",
        "    df['population'] == min_population\n",
        "].households.max()"
      ],
      "metadata": {
        "colab": {
          "base_uri": "https://localhost:8080/"
        },
        "id": "mok3A3n-D7qb",
        "outputId": "d9624cf3-2688-456f-9de7-f00580a902da"
      },
      "execution_count": 4,
      "outputs": [
        {
          "output_type": "execute_result",
          "data": {
            "text/plain": [
              "4.0"
            ]
          },
          "metadata": {},
          "execution_count": 4
        }
      ]
    }
  ]
}